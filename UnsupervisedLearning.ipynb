{
    "metadata": {
        "kernelspec": {
            "name": "python3",
            "display_name": "Python 3 (ipykernel)",
            "language": "python"
        }
    },
    "nbformat": 4,
    "nbformat_minor": 2,
    "cells": [
        {
            "attachments": {},
            "cell_type": "markdown",
            "metadata": {},
            "source": [
                "This code gives an introduction to unsupervised learning by solving a clustering problem using **K-Means Clustering** following [this tutorial](https://youtu.be/EItlUEPCIzM).\n",
                "\n",
                "Replace 'XLABEL' and 'YLABEL' with the respective labels in your data set."
            ]
        },
        {
            "attachments": {},
            "cell_type": "markdown",
            "metadata": {},
            "source": [
                "Import packages"
            ]
        },
        {
            "cell_type": "code",
            "execution_count": 70,
            "metadata": {},
            "outputs": [],
            "source": [
                "from sklearn.cluster import KMeans\n",
                "import pandas as pd\n",
                "from sklearn.preprocessing import MinMaxScaler\n",
                "from matplotlib import pyplot as plt\n",
                "%matplotlib inline\n",
                ""
            ]
        },
        {
            "attachments": {},
            "cell_type": "markdown",
            "metadata": {},
            "source": [
                "Import and explore the data set"
            ]
        },
        {
            "cell_type": "code",
            "execution_count": 71,
            "metadata": {},
            "outputs": [
                {
                    "data": {
                        "text/html": "\u003cdiv\u003e\n\u003cstyle scoped\u003e\n    .dataframe tbody tr th:only-of-type {\n        vertical-align: middle;\n    }\n\n    .dataframe tbody tr th {\n        vertical-align: top;\n    }\n\n    .dataframe thead th {\n        text-align: right;\n    }\n\u003c/style\u003e\n\u003ctable border=\"1\" class=\"dataframe\"\u003e\n  \u003cthead\u003e\n    \u003ctr style=\"text-align: right;\"\u003e\n      \u003cth\u003e\u003c/th\u003e\n      \u003cth\u003eUnnamed: 0\u003c/th\u003e\n      \u003cth\u003ecount\u003c/th\u003e\n      \u003cth\u003ehate_speech\u003c/th\u003e\n      \u003cth\u003eoffensive_language\u003c/th\u003e\n      \u003cth\u003eneither\u003c/th\u003e\n      \u003cth\u003eclass\u003c/th\u003e\n      \u003cth\u003etweet\u003c/th\u003e\n    \u003c/tr\u003e\n  \u003c/thead\u003e\n  \u003ctbody\u003e\n    \u003ctr\u003e\n      \u003cth\u003e0\u003c/th\u003e\n      \u003ctd\u003e0\u003c/td\u003e\n      \u003ctd\u003e3\u003c/td\u003e\n      \u003ctd\u003e0\u003c/td\u003e\n      \u003ctd\u003e0\u003c/td\u003e\n      \u003ctd\u003e3\u003c/td\u003e\n      \u003ctd\u003e2\u003c/td\u003e\n      \u003ctd\u003e!!! RT @mayasolovely: As a woman you shouldn't...\u003c/td\u003e\n    \u003c/tr\u003e\n    \u003ctr\u003e\n      \u003cth\u003e1\u003c/th\u003e\n      \u003ctd\u003e1\u003c/td\u003e\n      \u003ctd\u003e3\u003c/td\u003e\n      \u003ctd\u003e0\u003c/td\u003e\n      \u003ctd\u003e3\u003c/td\u003e\n      \u003ctd\u003e0\u003c/td\u003e\n      \u003ctd\u003e1\u003c/td\u003e\n      \u003ctd\u003e!!!!! RT @mleew17: boy dats cold...tyga dwn ba...\u003c/td\u003e\n    \u003c/tr\u003e\n    \u003ctr\u003e\n      \u003cth\u003e2\u003c/th\u003e\n      \u003ctd\u003e2\u003c/td\u003e\n      \u003ctd\u003e3\u003c/td\u003e\n      \u003ctd\u003e0\u003c/td\u003e\n      \u003ctd\u003e3\u003c/td\u003e\n      \u003ctd\u003e0\u003c/td\u003e\n      \u003ctd\u003e1\u003c/td\u003e\n      \u003ctd\u003e!!!!!!! RT @UrKindOfBrand Dawg!!!! RT @80sbaby...\u003c/td\u003e\n    \u003c/tr\u003e\n    \u003ctr\u003e\n      \u003cth\u003e3\u003c/th\u003e\n      \u003ctd\u003e3\u003c/td\u003e\n      \u003ctd\u003e3\u003c/td\u003e\n      \u003ctd\u003e0\u003c/td\u003e\n      \u003ctd\u003e2\u003c/td\u003e\n      \u003ctd\u003e1\u003c/td\u003e\n      \u003ctd\u003e1\u003c/td\u003e\n      \u003ctd\u003e!!!!!!!!! RT @C_G_Anderson: @viva_based she lo...\u003c/td\u003e\n    \u003c/tr\u003e\n    \u003ctr\u003e\n      \u003cth\u003e4\u003c/th\u003e\n      \u003ctd\u003e4\u003c/td\u003e\n      \u003ctd\u003e6\u003c/td\u003e\n      \u003ctd\u003e0\u003c/td\u003e\n      \u003ctd\u003e6\u003c/td\u003e\n      \u003ctd\u003e0\u003c/td\u003e\n      \u003ctd\u003e1\u003c/td\u003e\n      \u003ctd\u003e!!!!!!!!!!!!! RT @ShenikaRoberts: The shit you...\u003c/td\u003e\n    \u003c/tr\u003e\n  \u003c/tbody\u003e\n\u003c/table\u003e\n\u003c/div\u003e",
                        "text/plain": "   Unnamed: 0  count  hate_speech  offensive_language  neither  class  \\\n0           0      3            0                   0        3      2   \n1           1      3            0                   3        0      1   \n2           2      3            0                   3        0      1   \n3           3      3            0                   2        1      1   \n4           4      6            0                   6        0      1   \n\n                                               tweet  \n0  !!! RT @mayasolovely: As a woman you shouldn't...  \n1  !!!!! RT @mleew17: boy dats cold...tyga dwn ba...  \n2  !!!!!!! RT @UrKindOfBrand Dawg!!!! RT @80sbaby...  \n3  !!!!!!!!! RT @C_G_Anderson: @viva_based she lo...  \n4  !!!!!!!!!!!!! RT @ShenikaRoberts: The shit you...  "
                    },
                    "execution_count": 71,
                    "metadata": {},
                    "output_type": "execute_result"
                }
            ],
            "source": [
                "df = pd.read_csv('cleanedfile.csv')\n",
                "df.head()"
            ]
        },
        {
            "attachments": {},
            "cell_type": "markdown",
            "metadata": {},
            "source": [
                "Scatter plot"
            ]
        },
        {
            "cell_type": "code",
            "execution_count": 72,
            "metadata": {},
            "outputs": [
                {
                    "data": {
                        "text/plain": "Text(0, 0.5, 'offensive_language')"
                    },
                    "execution_count": 72,
                    "metadata": {},
                    "output_type": "execute_result"
                },
                {
                    "data": {
                        "image/png": "[encoded data removed]",
                        "text/plain": "\u003cFigure size 432x288 with 1 Axes\u003e"
                    },
                    "metadata": {
                        "needs_background": "light"
                    },
                    "output_type": "display_data"
                }
            ],
            "source": [
                "plt.scatter(df.hate_speech,df['offensive_language'])\n",
                "plt.xlabel('hate_speech')\n",
                "plt.ylabel('offensive_language')"
            ]
        },
        {
            "attachments": {},
            "cell_type": "markdown",
            "metadata": {},
            "source": [
                "Fit and predict three clusters for the data"
            ]
        },
        {
            "cell_type": "code",
            "execution_count": 73,
            "metadata": {},
            "outputs": [
                {
                    "data": {
                        "text/plain": "array([0, 1, 1, ..., 1, 2, 0], dtype=int32)"
                    },
                    "execution_count": 73,
                    "metadata": {},
                    "output_type": "execute_result"
                }
            ],
            "source": [
                "km = KMeans(n_clusters=3)\n",
                "y_predicted = km.fit_predict(df[['hate_speech','offensive_language']])\n",
                "y_predicted"
            ]
        },
        {
            "cell_type": "code",
            "execution_count": 74,
            "metadata": {},
            "outputs": [
                {
                    "data": {
                        "text/html": "\u003cdiv\u003e\n\u003cstyle scoped\u003e\n    .dataframe tbody tr th:only-of-type {\n        vertical-align: middle;\n    }\n\n    .dataframe tbody tr th {\n        vertical-align: top;\n    }\n\n    .dataframe thead th {\n        text-align: right;\n    }\n\u003c/style\u003e\n\u003ctable border=\"1\" class=\"dataframe\"\u003e\n  \u003cthead\u003e\n    \u003ctr style=\"text-align: right;\"\u003e\n      \u003cth\u003e\u003c/th\u003e\n      \u003cth\u003eUnnamed: 0\u003c/th\u003e\n      \u003cth\u003ecount\u003c/th\u003e\n      \u003cth\u003ehate_speech\u003c/th\u003e\n      \u003cth\u003eoffensive_language\u003c/th\u003e\n      \u003cth\u003eneither\u003c/th\u003e\n      \u003cth\u003eclass\u003c/th\u003e\n      \u003cth\u003etweet\u003c/th\u003e\n      \u003cth\u003ecluster\u003c/th\u003e\n    \u003c/tr\u003e\n  \u003c/thead\u003e\n  \u003ctbody\u003e\n    \u003ctr\u003e\n      \u003cth\u003e0\u003c/th\u003e\n      \u003ctd\u003e0\u003c/td\u003e\n      \u003ctd\u003e3\u003c/td\u003e\n      \u003ctd\u003e0\u003c/td\u003e\n      \u003ctd\u003e0\u003c/td\u003e\n      \u003ctd\u003e3\u003c/td\u003e\n      \u003ctd\u003e2\u003c/td\u003e\n      \u003ctd\u003e!!! RT @mayasolovely: As a woman you shouldn't...\u003c/td\u003e\n      \u003ctd\u003e0\u003c/td\u003e\n    \u003c/tr\u003e\n    \u003ctr\u003e\n      \u003cth\u003e1\u003c/th\u003e\n      \u003ctd\u003e1\u003c/td\u003e\n      \u003ctd\u003e3\u003c/td\u003e\n      \u003ctd\u003e0\u003c/td\u003e\n      \u003ctd\u003e3\u003c/td\u003e\n      \u003ctd\u003e0\u003c/td\u003e\n      \u003ctd\u003e1\u003c/td\u003e\n      \u003ctd\u003e!!!!! RT @mleew17: boy dats cold...tyga dwn ba...\u003c/td\u003e\n      \u003ctd\u003e1\u003c/td\u003e\n    \u003c/tr\u003e\n    \u003ctr\u003e\n      \u003cth\u003e2\u003c/th\u003e\n      \u003ctd\u003e2\u003c/td\u003e\n      \u003ctd\u003e3\u003c/td\u003e\n      \u003ctd\u003e0\u003c/td\u003e\n      \u003ctd\u003e3\u003c/td\u003e\n      \u003ctd\u003e0\u003c/td\u003e\n      \u003ctd\u003e1\u003c/td\u003e\n      \u003ctd\u003e!!!!!!! RT @UrKindOfBrand Dawg!!!! RT @80sbaby...\u003c/td\u003e\n      \u003ctd\u003e1\u003c/td\u003e\n    \u003c/tr\u003e\n    \u003ctr\u003e\n      \u003cth\u003e3\u003c/th\u003e\n      \u003ctd\u003e3\u003c/td\u003e\n      \u003ctd\u003e3\u003c/td\u003e\n      \u003ctd\u003e0\u003c/td\u003e\n      \u003ctd\u003e2\u003c/td\u003e\n      \u003ctd\u003e1\u003c/td\u003e\n      \u003ctd\u003e1\u003c/td\u003e\n      \u003ctd\u003e!!!!!!!!! RT @C_G_Anderson: @viva_based she lo...\u003c/td\u003e\n      \u003ctd\u003e1\u003c/td\u003e\n    \u003c/tr\u003e\n    \u003ctr\u003e\n      \u003cth\u003e4\u003c/th\u003e\n      \u003ctd\u003e4\u003c/td\u003e\n      \u003ctd\u003e6\u003c/td\u003e\n      \u003ctd\u003e0\u003c/td\u003e\n      \u003ctd\u003e6\u003c/td\u003e\n      \u003ctd\u003e0\u003c/td\u003e\n      \u003ctd\u003e1\u003c/td\u003e\n      \u003ctd\u003e!!!!!!!!!!!!! RT @ShenikaRoberts: The shit you...\u003c/td\u003e\n      \u003ctd\u003e2\u003c/td\u003e\n    \u003c/tr\u003e\n  \u003c/tbody\u003e\n\u003c/table\u003e\n\u003c/div\u003e",
                        "text/plain": "   Unnamed: 0  count  hate_speech  offensive_language  neither  class  \\\n0           0      3            0                   0        3      2   \n1           1      3            0                   3        0      1   \n2           2      3            0                   3        0      1   \n3           3      3            0                   2        1      1   \n4           4      6            0                   6        0      1   \n\n                                               tweet  cluster  \n0  !!! RT @mayasolovely: As a woman you shouldn't...        0  \n1  !!!!! RT @mleew17: boy dats cold...tyga dwn ba...        1  \n2  !!!!!!! RT @UrKindOfBrand Dawg!!!! RT @80sbaby...        1  \n3  !!!!!!!!! RT @C_G_Anderson: @viva_based she lo...        1  \n4  !!!!!!!!!!!!! RT @ShenikaRoberts: The shit you...        2  "
                    },
                    "execution_count": 74,
                    "metadata": {},
                    "output_type": "execute_result"
                }
            ],
            "source": [
                "df['cluster']=y_predicted\n",
                "df.head()"
            ]
        },
        {
            "cell_type": "code",
            "execution_count": 75,
            "metadata": {},
            "outputs": [
                {
                    "data": {
                        "text/plain": "array([[0.62183061, 0.37870887],\n       [0.17547592, 2.77743561],\n       [0.26431718, 5.95301028]])"
                    },
                    "execution_count": 75,
                    "metadata": {},
                    "output_type": "execute_result"
                }
            ],
            "source": [
                "km.cluster_centers_"
            ]
        },
        {
            "cell_type": "code",
            "execution_count": 76,
            "metadata": {},
            "outputs": [
                {
                    "data": {
                        "text/plain": "\u003cmatplotlib.legend.Legend at 0x7f66372c3e20\u003e"
                    },
                    "execution_count": 76,
                    "metadata": {},
                    "output_type": "execute_result"
                },
                {
                    "data": {
                        "image/png": "[encoded data removed]",
                        "text/plain": "\u003cFigure size 432x288 with 1 Axes\u003e"
                    },
                    "metadata": {
                        "needs_background": "light"
                    },
                    "output_type": "display_data"
                }
            ],
            "source": [
                "df1 = df[df.cluster==0]\n",
                "df2 = df[df.cluster==1]\n",
                "df3 = df[df.cluster==2]\n",
                "plt.scatter(df1.hate_speech,df1['offensive_language'],color='green')\n",
                "plt.scatter(df2.hate_speech,df2['offensive_language'],color='red')\n",
                "plt.scatter(df3.hate_speech,df3['offensive_language'],color='black')\n",
                "plt.scatter(km.cluster_centers_[:,0],km.cluster_centers_[:,1],color='purple',marker='*',label='centroid')\n",
                "plt.xlabel('hate_speech')\n",
                "plt.ylabel('offensive_language')\n",
                "plt.legend()"
            ]
        },
        {
            "attachments": {},
            "cell_type": "markdown",
            "metadata": {},
            "source": [
                "Fit the model using MinMaxScaler()"
            ]
        },
        {
            "cell_type": "code",
            "execution_count": 77,
            "metadata": {},
            "outputs": [],
            "source": [
                "scaler = MinMaxScaler()\n",
                "\n",
                "scaler.fit(df[['offensive_language']])\n",
                "df['offensive_language'] = scaler.transform(df[['offensive_language']])\n",
                "\n",
                "scaler.fit(df[['hate_speech']])\n",
                "df['hate_speech'] = scaler.transform(df[['offensive_language']])"
            ]
        },
        {
            "cell_type": "code",
            "execution_count": 78,
            "metadata": {},
            "outputs": [
                {
                    "data": {
                        "text/plain": "\u003cmatplotlib.collections.PathCollection at 0x7f665cf5b190\u003e"
                    },
                    "execution_count": 78,
                    "metadata": {},
                    "output_type": "execute_result"
                },
                {
                    "data": {
                        "image/png": "[encoded data removed]",
                        "text/plain": "\u003cFigure size 432x288 with 1 Axes\u003e"
                    },
                    "metadata": {
                        "needs_background": "light"
                    },
                    "output_type": "display_data"
                }
            ],
            "source": [
                "plt.scatter(df.hate_speech,df['offensive_language'])"
            ]
        },
        {
            "cell_type": "code",
            "execution_count": 79,
            "metadata": {},
            "outputs": [
                {
                    "data": {
                        "text/plain": "array([1, 0, 0, ..., 0, 2, 1], dtype=int32)"
                    },
                    "execution_count": 79,
                    "metadata": {},
                    "output_type": "execute_result"
                }
            ],
            "source": [
                "km = KMeans(n_clusters=3)\n",
                "y_predicted = km.fit_predict(df[['hate_speech','offensive_language']])\n",
                "y_predicted"
            ]
        },
        {
            "cell_type": "code",
            "execution_count": 80,
            "metadata": {},
            "outputs": [
                {
                    "data": {
                        "text/html": "\u003cdiv\u003e\n\u003cstyle scoped\u003e\n    .dataframe tbody tr th:only-of-type {\n        vertical-align: middle;\n    }\n\n    .dataframe tbody tr th {\n        vertical-align: top;\n    }\n\n    .dataframe thead th {\n        text-align: right;\n    }\n\u003c/style\u003e\n\u003ctable border=\"1\" class=\"dataframe\"\u003e\n  \u003cthead\u003e\n    \u003ctr style=\"text-align: right;\"\u003e\n      \u003cth\u003e\u003c/th\u003e\n      \u003cth\u003eUnnamed: 0\u003c/th\u003e\n      \u003cth\u003ecount\u003c/th\u003e\n      \u003cth\u003ehate_speech\u003c/th\u003e\n      \u003cth\u003eoffensive_language\u003c/th\u003e\n      \u003cth\u003eneither\u003c/th\u003e\n      \u003cth\u003eclass\u003c/th\u003e\n      \u003cth\u003etweet\u003c/th\u003e\n      \u003cth\u003ecluster\u003c/th\u003e\n    \u003c/tr\u003e\n  \u003c/thead\u003e\n  \u003ctbody\u003e\n    \u003ctr\u003e\n      \u003cth\u003e0\u003c/th\u003e\n      \u003ctd\u003e0\u003c/td\u003e\n      \u003ctd\u003e3\u003c/td\u003e\n      \u003ctd\u003e0.000000\u003c/td\u003e\n      \u003ctd\u003e0.000000\u003c/td\u003e\n      \u003ctd\u003e3\u003c/td\u003e\n      \u003ctd\u003e2\u003c/td\u003e\n      \u003ctd\u003e!!! RT @mayasolovely: As a woman you shouldn't...\u003c/td\u003e\n      \u003ctd\u003e1\u003c/td\u003e\n    \u003c/tr\u003e\n    \u003ctr\u003e\n      \u003cth\u003e1\u003c/th\u003e\n      \u003ctd\u003e1\u003c/td\u003e\n      \u003ctd\u003e3\u003c/td\u003e\n      \u003ctd\u003e0.047619\u003c/td\u003e\n      \u003ctd\u003e0.333333\u003c/td\u003e\n      \u003ctd\u003e0\u003c/td\u003e\n      \u003ctd\u003e1\u003c/td\u003e\n      \u003ctd\u003e!!!!! RT @mleew17: boy dats cold...tyga dwn ba...\u003c/td\u003e\n      \u003ctd\u003e0\u003c/td\u003e\n    \u003c/tr\u003e\n    \u003ctr\u003e\n      \u003cth\u003e2\u003c/th\u003e\n      \u003ctd\u003e2\u003c/td\u003e\n      \u003ctd\u003e3\u003c/td\u003e\n      \u003ctd\u003e0.047619\u003c/td\u003e\n      \u003ctd\u003e0.333333\u003c/td\u003e\n      \u003ctd\u003e0\u003c/td\u003e\n      \u003ctd\u003e1\u003c/td\u003e\n      \u003ctd\u003e!!!!!!! RT @UrKindOfBrand Dawg!!!! RT @80sbaby...\u003c/td\u003e\n      \u003ctd\u003e0\u003c/td\u003e\n    \u003c/tr\u003e\n    \u003ctr\u003e\n      \u003cth\u003e3\u003c/th\u003e\n      \u003ctd\u003e3\u003c/td\u003e\n      \u003ctd\u003e3\u003c/td\u003e\n      \u003ctd\u003e0.031746\u003c/td\u003e\n      \u003ctd\u003e0.222222\u003c/td\u003e\n      \u003ctd\u003e1\u003c/td\u003e\n      \u003ctd\u003e1\u003c/td\u003e\n      \u003ctd\u003e!!!!!!!!! RT @C_G_Anderson: @viva_based she lo...\u003c/td\u003e\n      \u003ctd\u003e0\u003c/td\u003e\n    \u003c/tr\u003e\n    \u003ctr\u003e\n      \u003cth\u003e4\u003c/th\u003e\n      \u003ctd\u003e4\u003c/td\u003e\n      \u003ctd\u003e6\u003c/td\u003e\n      \u003ctd\u003e0.095238\u003c/td\u003e\n      \u003ctd\u003e0.666667\u003c/td\u003e\n      \u003ctd\u003e0\u003c/td\u003e\n      \u003ctd\u003e1\u003c/td\u003e\n      \u003ctd\u003e!!!!!!!!!!!!! RT @ShenikaRoberts: The shit you...\u003c/td\u003e\n      \u003ctd\u003e2\u003c/td\u003e\n    \u003c/tr\u003e\n  \u003c/tbody\u003e\n\u003c/table\u003e\n\u003c/div\u003e",
                        "text/plain": "   Unnamed: 0  count  hate_speech  offensive_language  neither  class  \\\n0           0      3     0.000000            0.000000        3      2   \n1           1      3     0.047619            0.333333        0      1   \n2           2      3     0.047619            0.333333        0      1   \n3           3      3     0.031746            0.222222        1      1   \n4           4      6     0.095238            0.666667        0      1   \n\n                                               tweet  cluster  \n0  !!! RT @mayasolovely: As a woman you shouldn't...        1  \n1  !!!!! RT @mleew17: boy dats cold...tyga dwn ba...        0  \n2  !!!!!!! RT @UrKindOfBrand Dawg!!!! RT @80sbaby...        0  \n3  !!!!!!!!! RT @C_G_Anderson: @viva_based she lo...        0  \n4  !!!!!!!!!!!!! RT @ShenikaRoberts: The shit you...        2  "
                    },
                    "execution_count": 80,
                    "metadata": {},
                    "output_type": "execute_result"
                }
            ],
            "source": [
                "df['cluster']=y_predicted\n",
                "df.head()"
            ]
        },
        {
            "cell_type": "code",
            "execution_count": 81,
            "metadata": {},
            "outputs": [
                {
                    "data": {
                        "text/plain": "array([[0.04407248, 0.30850733],\n       [0.00591836, 0.04142854],\n       [0.09449223, 0.66144559]])"
                    },
                    "execution_count": 81,
                    "metadata": {},
                    "output_type": "execute_result"
                }
            ],
            "source": [
                "km.cluster_centers_"
            ]
        },
        {
            "cell_type": "code",
            "execution_count": 82,
            "metadata": {},
            "outputs": [
                {
                    "data": {
                        "text/plain": "\u003cmatplotlib.legend.Legend at 0x7f662e8e1700\u003e"
                    },
                    "execution_count": 82,
                    "metadata": {},
                    "output_type": "execute_result"
                },
                {
                    "data": {
                        "image/png": "[encoded data removed]",
                        "text/plain": "\u003cFigure size 432x288 with 1 Axes\u003e"
                    },
                    "metadata": {
                        "needs_background": "light"
                    },
                    "output_type": "display_data"
                }
            ],
            "source": [
                "df1 = df[df.cluster==0]\n",
                "df2 = df[df.cluster==1]\n",
                "df3 = df[df.cluster==2]\n",
                "plt.scatter(df1.hate_speech,df1['offensive_language'],color='green')\n",
                "plt.scatter(df2.hate_speech,df2['offensive_language'],color='red')\n",
                "plt.scatter(df3.hate_speech,df3['offensive_language'],color='black')\n",
                "plt.scatter(km.cluster_centers_[:,0],km.cluster_centers_[:,1],color='purple',marker='*',label='centroid')\n",
                "plt.legend()"
            ]
        },
        {
            "cell_type": "code",
            "execution_count": 83,
            "metadata": {},
            "outputs": [],
            "source": [
                "sse = []\n",
                "k_rng = range(1,10)\n",
                "for k in k_rng:\n",
                "    km = KMeans(n_clusters=k)\n",
                "    km.fit(df[['hate_speech','offensive_language']])\n",
                "    sse.append(km.inertia_)"
            ]
        },
        {
            "cell_type": "code",
            "execution_count": 84,
            "metadata": {},
            "outputs": [
                {
                    "data": {
                        "text/plain": "[\u003cmatplotlib.lines.Line2D at 0x7f662e9179a0\u003e]"
                    },
                    "execution_count": 84,
                    "metadata": {},
                    "output_type": "execute_result"
                },
                {
                    "data": {
                        "image/png": "[encoded data removed]",
                        "text/plain": "\u003cFigure size 432x288 with 1 Axes\u003e"
                    },
                    "metadata": {
                        "needs_background": "light"
                    },
                    "output_type": "display_data"
                }
            ],
            "source": [
                "plt.xlabel('K')\n",
                "plt.ylabel('Sum of squared error')\n",
                "plt.plot(k_rng,sse)"
            ]
        }
    ]
}
